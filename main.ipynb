{
 "cells": [
  {
   "cell_type": "markdown",
   "metadata": {},
   "source": [
    "Installing groq and imports\n"
   ]
  },
  {
   "cell_type": "code",
   "execution_count": null,
   "metadata": {
    "vscode": {
     "languageId": "plaintext"
    }
   },
   "outputs": [],
   "source": [
    "\n",
    "!pip install groq\n",
    "\n",
    "from groq import Groq\n",
    "from termcolor import colored\n",
    "import requests\n",
    "import json"
   ]
  },
  {
   "cell_type": "markdown",
   "metadata": {},
   "source": [
    "API KEY TO CONNECT TO GROQ \n"
   ]
  },
  {
   "cell_type": "code",
   "execution_count": null,
   "metadata": {
    "vscode": {
     "languageId": "plaintext"
    }
   },
   "outputs": [],
   "source": [
    "api_key = \"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\""
   ]
  },
  {
   "cell_type": "markdown",
   "metadata": {},
   "source": [
    "Define the function to connect to groq and config the llm "
   ]
  },
  {
   "cell_type": "code",
   "execution_count": null,
   "metadata": {
    "vscode": {
     "languageId": "plaintext"
    }
   },
   "outputs": [],
   "source": [
    "# instanciate groq \n",
    "client = Groq(\n",
    "    api_key=api_key\n",
    ")\n",
    "# a function thta will connect to a llm model with groq \n",
    "def generate_response(messages, model=\"llama-3.1-8b-instant\", max_tokens=150, temperature=0.7):\n",
    "    chat_completion = client.chat.completions.create(\n",
    "        messages=messages,\n",
    "        model=model,\n",
    "        max_tokens=max_tokens,\n",
    "        temperature=temperature\n",
    "    )\n",
    "\n",
    "    response = chat_completion.choices[0].message.content\n",
    "    return response\n"
   ]
  },
  {
   "cell_type": "markdown",
   "metadata": {},
   "source": [
    "This will be the code to execute user input to get champion names, \n",
    "based on the champion name, it will fetch to an api with that champion information via json file\n",
    "the user can then ask about the information about the champion from that file.\n"
   ]
  },
  {
   "cell_type": "code",
   "execution_count": null,
   "metadata": {
    "vscode": {
     "languageId": "plaintext"
    }
   },
   "outputs": [],
   "source": [
    "This version can only take in one of the champion and let the user ask about one type of champion that they searched. "
   ]
  },
  {
   "cell_type": "code",
   "execution_count": null,
   "metadata": {
    "vscode": {
     "languageId": "plaintext"
    }
   },
   "outputs": [],
   "source": [
    "\n",
    "champion_name = \"\"\n",
    "\n",
    "def fetch_champion_data(champion_name):\n",
    "  url = f\"https://ddragon.leagueoflegends.com/cdn/13.1.1/data/en_US/champion/{champion_name}.json\"\n",
    "  try:\n",
    "    response = requests.get(url)\n",
    "    response.raise_for_status()\n",
    "    data = response.json()\n",
    "    return data\n",
    "  except requests.exceptions.RequestException as e:\n",
    "    print(f\"Error fetching data: {e}\")\n",
    "    return None\n",
    "\n",
    "def main():\n",
    "  global champion_name\n",
    "  champion_name = input(\"Enter the name of a League of Legends champion: \")\n",
    "\n",
    "  champion_data = fetch_champion_data(champion_name)\n",
    "  if champion_data:\n",
    "    print(champion_data)\n",
    "\n",
    "    while True:\n",
    "      user_question = input(f\"Ask me something about {champion_name}: \")\n",
    "      if user_question.lower() == \"exit\":\n",
    "        break\n",
    "      prompt = f\"JSON data: {json.dumps(champion_data)}\\nQuestion: {user_question}\"\n",
    "      try:\n",
    "          response = generate_response([{\"role\": \"user\", \"content\": prompt}])\n",
    "          print(colored(response, 'green'))\n",
    "      except Exception as e:\n",
    "          print(f\"Error querying Groq: {e}\")\n",
    "\n",
    "if __name__ == \"__main__\":\n",
    "  main()"
   ]
  },
  {
   "cell_type": "markdown",
   "metadata": {},
   "source": [
    "This version will let user get 2 champions and the llm will compare the informations about 2 of the champions that the user will input. "
   ]
  },
  {
   "cell_type": "code",
   "execution_count": null,
   "metadata": {
    "vscode": {
     "languageId": "plaintext"
    }
   },
   "outputs": [],
   "source": [
    "\n",
    "champion_data_cache = {}\n",
    "\n",
    "champion_name = \"\"\n",
    "\n",
    "def fetch_champion_data(champion_name):\n",
    "  if champion_name in champion_data_cache:\n",
    "    print(\"Using cached data.\")\n",
    "    return champion_data_cache[champion_name]\n",
    "\n",
    "  url = f\"https://ddragon.leagueoflegends.com/cdn/13.1.1/data/en_US/champion/{champion_name}.json\"\n",
    "  try:\n",
    "    response = requests.get(url)\n",
    "    response.raise_for_status()\n",
    "    data = response.json()\n",
    "    champion_data_cache[champion_name] = data # Cache the data\n",
    "    return data\n",
    "  except requests.exceptions.RequestException as e:\n",
    "    print(f\"Error fetching data: {e}\")\n",
    "    return None\n",
    "\n",
    "def main():\n",
    "  global champion_name\n",
    "  champion1_name = input(\"Enter the name of the first League of Legends champion: \")\n",
    "  champion2_name = input(\"Enter the name of the second League of Legends champion: \")\n",
    "\n",
    "  champion1_data = fetch_champion_data(champion1_name)\n",
    "  champion2_data = fetch_champion_data(champion2_name)\n",
    "\n",
    "  if champion1_data and champion2_data:\n",
    "    while True:\n",
    "      user_question = input(f\"Ask me something comparing {champion1_name} and {champion2_name}: \")\n",
    "      if user_question.lower() == \"exit\":\n",
    "        break\n",
    "\n",
    "      prompt = f\"Compare and contrast these two champions based on the provided JSON data:\\nChampion 1 ({champion1_name}): {json.dumps(champion1_data)}\\nChampion 2 ({champion2_name}): {json.dumps(champion2_data)}\\nQuestion: {user_question}\"\n",
    "      try:\n",
    "        response = generate_response([{\"role\": \"user\", \"content\": prompt}])\n",
    "        print(colored(response, 'green'))\n",
    "      except Exception as e:\n",
    "          print(f\"Error querying Groq: {e}\")\n",
    "\n",
    "if __name__ == \"__main__\":\n",
    "  main()"
   ]
  }
 ],
 "metadata": {
  "language_info": {
   "name": "python"
  }
 },
 "nbformat": 4,
 "nbformat_minor": 2
}
